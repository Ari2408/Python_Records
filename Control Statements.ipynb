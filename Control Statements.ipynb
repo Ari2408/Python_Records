{
 "cells": [
  {
   "cell_type": "markdown",
   "id": "bbd08d8d",
   "metadata": {},
   "source": [
    "### 1.Develop a python program for finding the absolute value of a given number. This is always measured as positive number. This number is the distance of given number from the 0(Zero). The input value may be integer, float or complex number in Python. The absolute value of given number may be integer or float"
   ]
  },
  {
   "cell_type": "code",
   "execution_count": null,
   "id": "8e8dcd2e",
   "metadata": {},
   "outputs": [
    {
     "name": "stdout",
     "output_type": "stream",
     "text": [
      "(8+3j)is a complex nummber .\n",
      "The Absolute value of the given number is :  8.54\n"
     ]
    }
   ],
   "source": [
    "n=input(\"Enter a number(int or float or complex(eg:3+5j)) : \")\n",
    "if 'j' in (n):\n",
    "    n=complex(n)\n",
    "    print(\"It is a complex nummber .\")\n",
    "elif '.' in n:\n",
    "    n=float(n)\n",
    "    print(\"It is a floating value .\")\n",
    "else :\n",
    "    n=int(n)\n",
    "    print(\"It is an integer .\")\n",
    "#print(f\"Absolute value of {n} is {abs(n):.2f}\")\n",
    "print(\"The Absolute value of the given number is : \",round(abs(n),2))"
   ]
  },
  {
   "cell_type": "markdown",
   "id": "887480bd",
   "metadata": {},
   "source": [
    "### 2.Calculate the Total selling price after levying the GST (Goods and Service Tax) as CGST and SGST on sale. CGST (Central Govt. GST), SGST (State Govt. GST) .\n",
    "###        Sale amount \t\tCGST Rate \t\tSGST Rate\n",
    "\n",
    "####         0-50000\t\t5%\t\t\t5%\n",
    "####         Above 50000\t\t18%\t\t\t18%\n"
   ]
  },
  {
   "cell_type": "code",
   "execution_count": null,
   "id": "a794bced",
   "metadata": {},
   "outputs": [
    {
     "name": "stdout",
     "output_type": "stream",
     "text": [
      "----- BILL -----\n",
      "\n",
      "Amount       :  70000.0\n",
      "CGST         :  12600.0\n",
      "SGST         :  12600.0\n",
      "Tital Amount :  95200.0\n"
     ]
    }
   ],
   "source": [
    "amount=float(input(\"Enter the amount : \"))\n",
    "if amount>=0 and amount<=50000 :\n",
    "    gst=0.05*amount\n",
    "    total=gst+amount+gst # one gst refers to cgst and another gst refers to sgst\n",
    "else:\n",
    "    gst=0.18*amount\n",
    "    total=gst+amount+gst\n",
    "print(f\"----- BILL -----\\n\")\n",
    "print(f\"Amount       : \",amount)\n",
    "print(f\"CGST         : \",gst)\n",
    "print(f\"SGST         : \",gst)\n",
    "print(f\"Tital Amount : \",total)    "
   ]
  },
  {
   "cell_type": "markdown",
   "id": "1caf6601",
   "metadata": {},
   "source": [
    "### 3.Write a Python program to construct the following pattern, using a nested for loop.\n",
    "##### *\n",
    "##### * *\n",
    "##### * * *\n",
    "##### * * * *\n",
    "##### * * * * *\n",
    "##### * * * *\n",
    "##### * * *\n",
    "##### * *\n",
    "##### *\n"
   ]
  },
  {
   "cell_type": "code",
   "execution_count": 41,
   "id": "8cdc179b",
   "metadata": {},
   "outputs": [
    {
     "name": "stdout",
     "output_type": "stream",
     "text": [
      "\n",
      "\n",
      "* \n",
      "\n",
      "* * \n",
      "\n",
      "* * * \n",
      "\n",
      "* * * * \n",
      "\n",
      "* * * * * \n",
      "\n",
      "* * * * \n",
      "\n",
      "* * * \n",
      "\n",
      "* * \n",
      "\n",
      "* \n",
      "\n"
     ]
    }
   ],
   "source": [
    "n = int(input(\"enter range : \"))\n",
    "for i in range(1,n+1):\n",
    "    for j in range(1,i):\n",
    "        print(\"*\",end=\" \")\n",
    "    print(\"\\n\")\n",
    "for i in range(n,0,-1):\n",
    "    for j in range(i,0,-1):\n",
    "        print(\"*\",end=\" \")\n",
    "    print(\"\\n\")"
   ]
  },
  {
   "cell_type": "markdown",
   "id": "1324dbf8",
   "metadata": {},
   "source": [
    "### 4.Write a Python program to guess a number between 1 and 9.\n",
    "#### Note : User is prompted to enter a guess. If the user guesses wrong then the prompt appears again until the guess is correct, on successful guess, user will get a \"Well guessed!\" message, and the program will exit.\n"
   ]
  },
  {
   "cell_type": "code",
   "execution_count": null,
   "id": "652976bc",
   "metadata": {},
   "outputs": [
    {
     "name": "stdout",
     "output_type": "stream",
     "text": [
      "Congratulations \n",
      "You Guess the number correctly \n"
     ]
    }
   ],
   "source": [
    "import random \n",
    "n = random.randint(1,9)\n",
    "guess = int(input(\"Guess an number : \"))\n",
    "while guess!=n:\n",
    "    guess = int(input(\"Guess an number : \"))\n",
    "print(\"Congratulations \\nYou have guessed the number correctly !!\")"
   ]
  },
  {
   "cell_type": "markdown",
   "id": "b2081c45",
   "metadata": {},
   "source": [
    "### 5.You have two streaming subscriptions and want to find out how much you spend each month and  how much you could save if you switch to paying annually. Each subscription has a monthly cost and offers a discounted annual rate. \n",
    "#### Write a Python program to calculate the total monthly cost for both subscriptions, the total annual cost if you continue paying monthly, and compare this with the yearly rates you would pay if you switch to annual payments. Finally, choose the yearly payment option to see how much you could save. \n",
    "####       Test Case: \n",
    "#### Input: \n",
    "#### Service 1 = $10/month \n",
    "#### Service 2 = $12/month \n",
    " \n",
    "####  Annual Discount for Service 1 = $100 \n",
    "####    Annual Discount for Service 2 = $120 \n",
    "####    Expected Output: \n",
    "####    Monthly Total: $22.00 \n",
    "####    Total Annual Cost without Discount: $264.00 \n",
    "####    Total Annual Discounted Cost: $220.00 \n",
    "####    Total Savings: $44.00"
   ]
  },
  {
   "cell_type": "code",
   "execution_count": null,
   "id": "e53447d9",
   "metadata": {},
   "outputs": [
    {
     "name": "stdout",
     "output_type": "stream",
     "text": [
      "SERVICE 1 (PER MONTH)              : $ 10\n",
      "SERVICE 2 (PER MONTH)              : $ 12\n",
      "ANNUAL DISCOUNT FOR SERVICE 1      : $ 100\n",
      "ANNUAL DISCOUNT FOR SERVICE 2      : $ 120\n",
      "MONTHLY TOTAL                      : $ 22\n",
      "TOTAL ANNUAL COST WITHOUT DISCOUNT : $ 264\n",
      "TOTAL ANNUAL DISCOUNT COST         : $ 220\n",
      "TOTAL SAVINGS                      : $ 44\n"
     ]
    }
   ],
   "source": [
    "service1 = int(input(\"Enter cost of subscription for service 1 : \"))\n",
    "service2 = int(input(\"Enter cost of subscription for service 2 : \"))\n",
    "discount1 = int(input(\"Enter Annual Discount for service 1 : \"))\n",
    "discount2 = int(input(\"Enter Annual Discount for service 2 : \"))\n",
    "month_total = service1+service2\n",
    "annual_total = month_total*12\n",
    "annual_discount = discount1+discount2\n",
    "savings = annual_total-annual_discount\n",
    "print(\"SERVICE 1 (PER MONTH)              : $\",service1)\n",
    "print(\"SERVICE 2 (PER MONTH)              : $\",service2)\n",
    "print(\"ANNUAL DISCOUNT FOR SERVICE 1      : $\",discount1)\n",
    "print(\"ANNUAL DISCOUNT FOR SERVICE 2      : $\",discount2)\n",
    "print(\"MONTHLY TOTAL                      : $\",month_total)\n",
    "print(\"TOTAL ANNUAL COST WITHOUT DISCOUNT : $\",annual_total)\n",
    "print(\"TOTAL ANNUAL DISCOUNT COST         : $\",annual_discount)\n",
    "print(\"TOTAL SAVINGS                      : $\",savings)"
   ]
  },
  {
   "cell_type": "markdown",
   "id": "8f310711",
   "metadata": {},
   "source": [
    "### 6.Write a Python program that iterates through integers from 1 to 50. For each multiple of three, print \"Fizz\" instead of the number; for each multiple of five, print \"Buzz\". For numbers that are multiples of both three and five, print \"FizzBuzz\".\n"
   ]
  },
  {
   "cell_type": "code",
   "execution_count": 12,
   "id": "460f3cd9",
   "metadata": {},
   "outputs": [
    {
     "name": "stdout",
     "output_type": "stream",
     "text": [
      "1\n",
      "2\n",
      "Fizz\n",
      "4\n",
      "Buzz\n",
      "Fizz\n",
      "7\n",
      "8\n",
      "Fizz\n",
      "Buzz\n",
      "11\n",
      "Fizz\n",
      "13\n",
      "14\n",
      "FizzBuzz\n",
      "16\n",
      "17\n",
      "Fizz\n",
      "19\n",
      "Buzz\n",
      "Fizz\n",
      "22\n",
      "23\n",
      "Fizz\n",
      "Buzz\n",
      "26\n",
      "Fizz\n",
      "28\n",
      "29\n",
      "FizzBuzz\n",
      "31\n",
      "32\n",
      "Fizz\n",
      "34\n",
      "Buzz\n",
      "Fizz\n",
      "37\n",
      "38\n",
      "Fizz\n",
      "Buzz\n",
      "41\n",
      "Fizz\n",
      "43\n",
      "44\n",
      "FizzBuzz\n",
      "46\n",
      "47\n",
      "Fizz\n",
      "49\n",
      "Buzz\n"
     ]
    }
   ],
   "source": [
    "n=int(input(\"Enter the range : \"))\n",
    "for i in range(1,n+1):\n",
    "    if i%3==0 and i%5==0:\n",
    "        print(\"FizzBuzz\")\n",
    "    elif i%3==0 :\n",
    "        print(\"Fizz\")\n",
    "    elif i%5==0:\n",
    "        print(\"Buzz\")\n",
    "    else:\n",
    "        print(i)            "
   ]
  },
  {
   "cell_type": "markdown",
   "id": "df99ffcb",
   "metadata": {},
   "source": [
    "### 7.Write a Python program that takes two digits m (row) and n (column) as input and generates a two-dimensional array. The element value in the i-th row and j-th column of the array should be i*j.\n",
    "### Note :\n",
    "#### i = 0,1.., m-1\n",
    "#### j = 0,1, n-1.\n",
    "### Test Data : Rows = 3, Columns = 4\n",
    "### Expected Result : [[0, 0, 0, 0], [0, 1, 2, 3], [0, 2, 4, 6]]"
   ]
  },
  {
   "cell_type": "code",
   "execution_count": 5,
   "id": "b23d1486",
   "metadata": {},
   "outputs": [
    {
     "name": "stdout",
     "output_type": "stream",
     "text": [
      "[[0, 0, 0, 0], [0, 1, 2, 3], [0, 2, 4, 6]]\n"
     ]
    }
   ],
   "source": [
    "m=int(input(\"Enter number of  rows : \"))\n",
    "n=int(input(\"Enter number of columns : \"))\n",
    "array=[]\n",
    "for i in range(m):\n",
    "    row=[]\n",
    "    for j in range(n):\n",
    "       row.append(i*j)\n",
    "    array.append(row)  \n",
    "print(array)      "
   ]
  },
  {
   "cell_type": "markdown",
   "id": "5d15a19d",
   "metadata": {},
   "source": [
    "### 8.Write  a Python program for Grade Classification\n",
    "### Scenario: A school system classifies grades as follows:\n",
    "#### A (90 and above)\n",
    "#### B (70 to 89)\n",
    "#### C (50 to 69)\n",
    "#### D (below 50)\n",
    "### Question:  What grade will be assigned to a student who scores 85?\n",
    "### If the score is 92, what grade will the program output\n"
   ]
  },
  {
   "cell_type": "code",
   "execution_count": null,
   "id": "3bb36619",
   "metadata": {},
   "outputs": [
    {
     "name": "stdout",
     "output_type": "stream",
     "text": [
      "A Grade\n"
     ]
    }
   ],
   "source": [
    "score=int(input(\"Enter the grade of the student : \"))\n",
    "if score>=90:\n",
    "    print(\"A Grade\")\n",
    "elif score>=70 and score<=89:\n",
    "    print(\"B Grade\")\n",
    "elif score>=50 and score<=69:\n",
    "    print(\"C Grade\")\n",
    "elif score<50 and score>0:\n",
    "    print(\"D Grade\")  \n",
    "else:\n",
    "    print(\"You have entered wrong score.\")              "
   ]
  },
  {
   "cell_type": "markdown",
   "id": "921a23f6",
   "metadata": {},
   "source": [
    "### 9.Write a program that prints the multiplication table of a user-entered number up to 10.\n"
   ]
  },
  {
   "cell_type": "code",
   "execution_count": null,
   "id": "03f389b0",
   "metadata": {},
   "outputs": [
    {
     "name": "stdout",
     "output_type": "stream",
     "text": [
      "The multiplication table for 5 is :\n",
      " \n",
      "5*1=5\n",
      "5*2=10\n",
      "5*3=15\n",
      "5*4=20\n",
      "5*5=25\n",
      "5*6=30\n",
      "5*7=35\n",
      "5*8=40\n",
      "5*9=45\n",
      "5*10=50\n"
     ]
    }
   ],
   "source": [
    "\n",
    "n=int(input(\"Enter a number : \"))\n",
    "print(f\"The multiplication table for {n} is :\\n \")\n",
    "for i in range(1,11):\n",
    "    print(f\"{n}*{i}={n*i}\")        "
   ]
  },
  {
   "cell_type": "markdown",
   "id": "2250185c",
   "metadata": {},
   "source": [
    "### 10.Write a Python program to check the validity of passwords input by users.\n",
    "### Validation :\n",
    "#### At least 1 letter between [a-z] and 1 letter between [A-Z].\n",
    "#### At least 1 number between [0-9].\n",
    "#### At least 1 character from [$#@].\n",
    "#### Minimum length 6 characters.\n",
    "#### Maximum length 16 characters."
   ]
  },
  {
   "cell_type": "code",
   "execution_count": null,
   "id": "785a79b2",
   "metadata": {},
   "outputs": [
    {
     "name": "stdout",
     "output_type": "stream",
     "text": [
      "Adhi@53 is a valid password\n"
     ]
    }
   ],
   "source": [
    "password=input(\"Enter a password : \")\n",
    "if len(password)>=6 and len(password)<=16:\n",
    "    pass_len=True\n",
    "else :\n",
    "    pass_len=False    \n",
    "pass_lower=False\n",
    "pass_upper=False\n",
    "pass_num=False\n",
    "pass_spchar=False\n",
    "for char in password:\n",
    "    if char.islower():\n",
    "        pass_lower=True\n",
    "    elif char.isupper():\n",
    "        pass_upper=True\n",
    "    elif char.isnumeric():   \n",
    "        pass_num=True\n",
    "    elif char in \"@#$_.\":\n",
    "        pass_spchar=True             \n",
    "if pass_lower and pass_upper and pass_num and pass_spchar:\n",
    "    print(f\"{password} is a valid password\")\n",
    "else:\n",
    "    print(\"Invalid password\")    \n"
   ]
  }
 ],
 "metadata": {
  "kernelspec": {
   "display_name": "Python 3",
   "language": "python",
   "name": "python3"
  },
  "language_info": {
   "codemirror_mode": {
    "name": "ipython",
    "version": 3
   },
   "file_extension": ".py",
   "mimetype": "text/x-python",
   "name": "python",
   "nbconvert_exporter": "python",
   "pygments_lexer": "ipython3",
   "version": "3.12.10"
  }
 },
 "nbformat": 4,
 "nbformat_minor": 5
}
