{
 "cells": [
  {
   "cell_type": "markdown",
   "id": "1d83b888",
   "metadata": {},
   "source": [
    "### 1.Username Validator  You're developing a login system. A username must only contain alphabets and numbers, and should not exceed 12 characters.Write a function that checks whether a given username is valid or not. Return True if it's valid, otherwise False.\n"
   ]
  },
  {
   "cell_type": "code",
   "execution_count": 15,
   "id": "b190298e",
   "metadata": {},
   "outputs": [
    {
     "data": {
      "text/plain": [
       "True"
      ]
     },
     "execution_count": 15,
     "metadata": {},
     "output_type": "execute_result"
    }
   ],
   "source": [
    "def user_name(name):\n",
    "    if len(name)>=4 and len(name)<=12:\n",
    "        return True        \n",
    "    for char in name:\n",
    "        if char.isalnum():\n",
    "            return True\n",
    "        else:\n",
    "            return False    \n",
    "name=input(\"Enter user name : \")\n",
    "user_name(name)      \n"
   ]
  },
  {
   "cell_type": "markdown",
   "id": "be1b8e04",
   "metadata": {},
   "source": [
    "### 2.Email Masking for Privacy . You need to mask part of an email address when displaying it publicly to protect user privacy.Write a program that takes an email like john.doe@example.com and returns a masked version like jo****@example.com."
   ]
  },
  {
   "cell_type": "code",
   "execution_count": 10,
   "id": "9c58b9b5",
   "metadata": {},
   "outputs": [
    {
     "name": "stdout",
     "output_type": "stream",
     "text": [
      "Masked Email :  jo******@example.com \n"
     ]
    }
   ],
   "source": [
    "email=input(\"Enter the email address : \")\n",
    "p_name,s_name=email.split('@')\n",
    "if len(p_name)>2:\n",
    "    masked_name=p_name[:2]+\"*\"*(len(p_name)-2)\n",
    "masked_email=masked_name+\"@\"+s_name\n",
    "print(\"Masked Email : \",masked_email)    "
   ]
  },
  {
   "cell_type": "markdown",
   "id": "dc1a96c6",
   "metadata": {},
   "source": [
    "### 3.Detecting Palindromes  You are building a text analyzer app. One of the features is to detect if a word or phrase is a palindrome (ignoring spaces and punctuation).Write a function that checks whether a given string is a palindrome, ignoring case, spaces, and punctuation."
   ]
  },
  {
   "cell_type": "code",
   "execution_count": 5,
   "id": "2f8cf885",
   "metadata": {},
   "outputs": [
    {
     "name": "stdout",
     "output_type": "stream",
     "text": [
      "True\n"
     ]
    }
   ],
   "source": [
    "def palindrome(word):\n",
    "    clean='' \n",
    "    rev='' \n",
    "    for i in word: \n",
    "        if i.isalnum(): \n",
    "            clean+=i.lower() \n",
    "    rev=clean[::-1] \n",
    "    return rev==clean \n",
    "word=input(\"Enter a sentence :\") \n",
    "print(palindrome(word))"
   ]
  },
  {
   "cell_type": "markdown",
   "id": "94a1593b",
   "metadata": {},
   "source": [
    "### 4.Text Formatter for News Headlines - You’re building a news app that receives article titles in random casing. You need to format the titles so each word starts with a capital letter.Write a function that converts a given string like \"breaKing news: python is fun\" to \"Breaking News: Python Is Fun\"."
   ]
  },
  {
   "cell_type": "code",
   "execution_count": null,
   "id": "7bef2010",
   "metadata": {},
   "outputs": [
    {
     "data": {
      "text/plain": [
       "'Breaking News: Python Is Fun'"
      ]
     },
     "execution_count": 4,
     "metadata": {},
     "output_type": "execute_result"
    }
   ],
   "source": [
    "def news_title(title):\n",
    "    return title.lower().title()\n",
    "title=input(\"Enter the news headlines : \")\n",
    "print(news_title(title))"
   ]
  },
  {
   "cell_type": "markdown",
   "id": "fd2c9786",
   "metadata": {},
   "source": [
    "### 5.Word Frequency Counter  In a blog analysis tool, you need to find out how often each word appears in a paragraph.\n"
   ]
  },
  {
   "cell_type": "code",
   "execution_count": 2,
   "id": "4bc756a1",
   "metadata": {},
   "outputs": [
    {
     "name": "stdout",
     "output_type": "stream",
     "text": [
      "Total number of words :  9\n"
     ]
    }
   ],
   "source": [
    "a=input(\"Enter the paragraph  : \")\n",
    "b=input(\"Enter the word : \")\n",
    "a1=a.lower()\n",
    "b1=b.lower()\n",
    "c=a1.count(b1)\n",
    "print(\"Total number of words : \",c)            "
   ]
  },
  {
   "cell_type": "markdown",
   "id": "f92dbe32",
   "metadata": {},
   "source": [
    "### 6.Write a program that takes a block of text and prints\n"
   ]
  },
  {
   "cell_type": "code",
   "execution_count": null,
   "id": "166bb0af",
   "metadata": {},
   "outputs": [],
   "source": [
    "block=input(\"Enter the block of text : \")\n",
    "print(block)"
   ]
  }
 ],
 "metadata": {
  "kernelspec": {
   "display_name": "Python 3",
   "language": "python",
   "name": "python3"
  },
  "language_info": {
   "codemirror_mode": {
    "name": "ipython",
    "version": 3
   },
   "file_extension": ".py",
   "mimetype": "text/x-python",
   "name": "python",
   "nbconvert_exporter": "python",
   "pygments_lexer": "ipython3",
   "version": "3.12.10"
  }
 },
 "nbformat": 4,
 "nbformat_minor": 5
}
