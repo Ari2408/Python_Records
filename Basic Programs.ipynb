{
 "cells": [
  {
   "cell_type": "markdown",
   "id": "9536c33e",
   "metadata": {},
   "source": [
    "### 1.Write a program to calculate the area of a triangle using Heron’s formula.\n",
    "#### (Hint: Heron’s formula is given as: area = sqrt(S*(S–a)*(S–b)*(S–c)))\n"
   ]
  },
  {
   "cell_type": "code",
   "execution_count": 1,
   "id": "d70d4c65",
   "metadata": {},
   "outputs": [
    {
     "name": "stdout",
     "output_type": "stream",
     "text": [
      "The area of the triangle is : 80.37388218507303\n"
     ]
    }
   ],
   "source": [
    "a=int(input(\"Enter the first side of the triangle :\"))\n",
    "b=int(input(\"Enter the second side of the triangle :\"))\n",
    "c=int(input(\"Enter the third side of the triangle :\"))\n",
    "S=(a+b+c)/2\n",
    "area=(S*(S-a)*(S-b)*(S-c)**0.5)\n",
    "print(\"The area of the triangle is :\",area)\n"
   ]
  },
  {
   "cell_type": "markdown",
   "id": "81609e9f",
   "metadata": {},
   "source": [
    " ### 2.Write a program to calculate the distance between two points."
   ]
  },
  {
   "cell_type": "code",
   "execution_count": 6,
   "id": "17e488b8",
   "metadata": {},
   "outputs": [
    {
     "name": "stdout",
     "output_type": "stream",
     "text": [
      "Dinstance between two points : 3.872983346207417\n"
     ]
    }
   ],
   "source": [
    "x1=int(input(\"Enter a first point x coordinate :\"))\n",
    "y1=int(input(\"Enter a first point y coordinate :\"))\n",
    "x2=int(input(\"Enter a second point x coordinate :\"))\n",
    "y2=int(input(\"Enter a second point y coordinate :\"))\n",
    "d=((((x2-x1)^2)+((y2-y1)^2))**0.5)\n",
    "print(\"Dinstance between two points :\",d)"
   ]
  },
  {
   "cell_type": "markdown",
   "id": "a6a7a34d",
   "metadata": {},
   "source": [
    "### 3.Write a program to calculate the area of a circle, rectangle, triangle, and square."
   ]
  },
  {
   "cell_type": "code",
   "execution_count": null,
   "id": "493afd3b",
   "metadata": {},
   "outputs": [
    {
     "name": "stdout",
     "output_type": "stream",
     "text": [
      "The area of the circle : 66.44239999999999\n",
      "The area of the rectangle : 30.0\n",
      "The area of the triangle : 5.0\n",
      "The area of the square : 16.0\n"
     ]
    }
   ],
   "source": [
    "r=float(input(\"Enter the radius of circle :\"))\n",
    "l=float(input(\"Enter the length of the rectangle :\"))\n",
    "b=float(input(\"Enter the breadth of the rectangle :\"))\n",
    "h=float(input(\"Enter the height of the triangle :\"))\n",
    "ba=float(input(\"Enter the base of the triangle :\"))\n",
    "s=float(input(\"Enter the side of the square :\"))\n",
    "ac=3.14*(r**2)\n",
    "ar=l*b\n",
    "at=(1/3)*h*ba\n",
    "asq=s**4\n",
    "print(\"The area of the circle :\",ac)\n",
    "print(\"The area of the rectangle :\",ar)\n",
    "print(\"The area of the triangle :\",at)\n",
    "print(\"The area of the square :\",asq)\n"
   ]
  },
  {
   "cell_type": "markdown",
   "id": "8bad29e5",
   "metadata": {},
   "source": [
    "### 4.Write a program to print the digit at one’s place of a number."
   ]
  },
  {
   "cell_type": "code",
   "execution_count": 3,
   "id": "312fc007",
   "metadata": {},
   "outputs": [
    {
     "name": "stdout",
     "output_type": "stream",
     "text": [
      "The one's place of the given integer : 7\n"
     ]
    }
   ],
   "source": [
    "num=float(input(\"Enter the integer : \"))\n",
    "result=int(num)%10\n",
    "print(\"The one's place of the given integer :\",result)"
   ]
  },
  {
   "cell_type": "markdown",
   "id": "75551a8b",
   "metadata": {},
   "source": [
    "### 5.Write a program to calculate the total amount of money in the piggy bank, given the coins of ₹10, ₹5, ₹2, and ₹1.\n"
   ]
  },
  {
   "cell_type": "code",
   "execution_count": 2,
   "id": "fe393bf4",
   "metadata": {},
   "outputs": [
    {
     "name": "stdout",
     "output_type": "stream",
     "text": [
      "The total amount in the piggy bank is :  162\n"
     ]
    }
   ],
   "source": [
    "ten=int(input(\"Enter the number of 10 rupee coin : \"))\n",
    "five=int(input(\"Enter the  number of 5 rupee coin : \"))\n",
    "two=int(input(\"Enter the number of 2 rupee coin : \"))\n",
    "one=int(input(\"Enter the number of 1 coin : \"))\n",
    "total_amount=ten*10+five*5+two*2+one*1\n",
    "print(\"The total amount in the piggy bank is : \",total_amount)"
   ]
  },
  {
   "cell_type": "markdown",
   "id": "c7c6192c",
   "metadata": {},
   "source": [
    "### 6.Write a program to calculate the bill amount for an item given its quantity sold, value, discount, and tax."
   ]
  },
  {
   "cell_type": "code",
   "execution_count": null,
   "id": "d8e54f48",
   "metadata": {},
   "outputs": [
    {
     "name": "stdout",
     "output_type": "stream",
     "text": [
      "--- BILL ---\n",
      "\n",
      "Sub total       : ₹ 4740.0\n",
      "Discount        : ₹ 474.0\n",
      "Tax(18%)        : ₹ 767.88\n",
      "Bill            : ₹ 5507.88\n"
     ]
    }
   ],
   "source": [
    "n=int(input(\"Enter the number of items\"))\n",
    "tax=0.18\n",
    "total=0\n",
    "discount=0\n",
    "print(\"--- BILL ---\\n\")\n",
    "for i in range(n):\n",
    "    q=int(input(\"Enter the quantity:\"))\n",
    "    p=float(input(\"Enter the price of the product:\"))\n",
    "    total+=(p*q)\n",
    "discount=total*0.1 if total>1000 else 0\n",
    "tax=tax*(total-discount)\n",
    "final=total+tax\n",
    "print(f\"Sub total       : ₹\",total)\n",
    "print(f\"Discount        : ₹\",discount)\n",
    "print(f\"Tax(18%)        : ₹\"round(tax,2))\n",
    "print(f\"Bill            : ₹\",final)"
   ]
  },
  {
   "cell_type": "markdown",
   "id": "44f7726d",
   "metadata": {},
   "source": [
    "### 7.Write a python program to calculate a household's electricity bill.\n",
    "### The user should enter the number of units consumed. The charges are as follows:\n",
    "  #### For the first 100 units: ₹1.50 per unit\n",
    "  #### For the next 100 units (101–200): ₹2.00 per unit\n",
    "  #### For units above 200: ₹3.00 per unit\n",
    "### A fixed meter charge of ₹50 is added to the bill.\n",
    "### Display the total amount to be paid with a proper bill format.\n"
   ]
  },
  {
   "cell_type": "code",
   "execution_count": 31,
   "id": "8df9645e",
   "metadata": {},
   "outputs": [
    {
     "name": "stdout",
     "output_type": "stream",
     "text": [
      "--- ELECTRICITY BILL ---\n",
      "\n",
      "Electricity consumed(in units) :  100.0\n",
      "The total electricity bill is  : ₹ 200.0\n"
     ]
    }
   ],
   "source": [
    "n_units= float(input(\"Enter the number of units consumed : \"))\n",
    "print(\"--- ELECTRICITY BILL ---\\n\")\n",
    "print(\"Electricity consumed(in units) : \",n_units)\n",
    "if n_units>=0 and n_units<=100:\n",
    "    total=(n_units*1.50)+50\n",
    "    print(\"The total electricity bill is  : ₹\",total)\n",
    "elif n_units>=101 and n_units<=200 :\n",
    "    total=(n_units*2.00)+50\n",
    "    print(\"The total electricity bill is  : ₹\",total)  \n",
    "elif n_units>=201:\n",
    "    total=(n_units*3.00)+50\n",
    "    print(\"The total electricity bill is  : ₹\",total)    \n",
    "else:\n",
    "    print(\"ERROR : The entered value is negative .\")    \n"
   ]
  },
  {
   "cell_type": "markdown",
   "id": "2ccf4445",
   "metadata": {},
   "source": [
    "### 8.Develop a Python program that calculates an employee’s net salary. Accept input for:\n",
    "  #### Employee name and ID\n",
    "  #### Number of hours worked\n",
    "  #### Hourly wage\n",
    "### Calculate the gross salary and deduct 10% as tax. Display a proper salary slip with all details.\n"
   ]
  },
  {
   "cell_type": "code",
   "execution_count": 32,
   "id": "0cb23375",
   "metadata": {},
   "outputs": [
    {
     "name": "stdout",
     "output_type": "stream",
     "text": [
      "--- Employee's Salary Slip Details ---\n",
      "\n",
      "Employee's name           :  Adhithya \n",
      "Employee's id             :  1515\n",
      "Working hours of employee :  120.0\n",
      "Hourly wage               :  15000.0\n",
      "Gross salary              :  1800000.0\n",
      "Tax(10%)                  :  180000.0\n",
      "Total_salary              :  1620000.0\n"
     ]
    }
   ],
   "source": [
    "e_name=input(\"Enter the name of the employee : \")\n",
    "e_id=int(input(\"Enter the employee id : \"))\n",
    "working_hours=float(input(\"Enter the number of hours worked by the employee : \"))\n",
    "hourly_wages=float(input(\"Enter the hourly wage : ₹ \"))\n",
    "gross_salary=working_hours*hourly_wages\n",
    "tax=0.1*gross_salary\n",
    "total_salary=gross_salary-tax\n",
    "print(f\"--- Employee's Salary Slip Details ---\\n\")\n",
    "print(f\"Employee's name           : \",e_name)\n",
    "print(f\"Employee's id             : \",e_id)\n",
    "print(f\"Working hours of employee : \",working_hours)\n",
    "print(f\"Hourly wage               : \",hourly_wages)\n",
    "print(f\"Gross salary              : \",gross_salary)\n",
    "print(f\"Tax(10%)                  : \",tax)\n",
    "print(f\"Total_salary              : \",total_salary)\n"
   ]
  },
  {
   "cell_type": "markdown",
   "id": "07983da0",
   "metadata": {},
   "source": [
    "### 9.Write a Python program to calculate the total cost of movie tickets. Accept:\n",
    "  #### Number of tickets\n",
    "  #### Ticket category (Silver: ₹120, Gold: ₹180, Platinum: ₹250)\n",
    "### Add 18% GST to the ticket cost. Display a formatted bill.\n"
   ]
  },
  {
   "cell_type": "code",
   "execution_count": 8,
   "id": "65366915",
   "metadata": {},
   "outputs": [
    {
     "name": "stdout",
     "output_type": "stream",
     "text": [
      "--- MOVIE TICKET BILL --- \n",
      "\n",
      "Cost of the ticket :  250\n",
      "No of tickets      :  2\n",
      "Ticket category    :  Platinum\n",
      "Total cost         :  500\n",
      "Tax                :  90.0\n",
      "Final cost         :  410.0\n"
     ]
    }
   ],
   "source": [
    "n_tickets=int(input(\"Enter the number of tickets : \"))\n",
    "c_tickets=int(input(\"Enter the cost of the ticket : ₹\"))\n",
    "tax=0.18*n_tickets*c_tickets\n",
    "print(f\"--- MOVIE TICKET BILL --- \\n\")\n",
    "print(f\"Cost of the ticket : \",c_tickets)\n",
    "print(f\"No of tickets      : \",n_tickets)\n",
    "if c_tickets==120:\n",
    "    print(f\"Ticket category    :  Silver\")\n",
    "    print(f\"Total cost         : \",n_tickets*c_tickets)\n",
    "    print(f\"Tax                : \",tax)\n",
    "    print(f\"Final cost         : \",n_tickets*c_tickets-tax) \n",
    "elif c_tickets==180:\n",
    "    print(f\"Ticket category    :  Gold\")\n",
    "    print(f\"Total cost         : \",n_tickets*c_tickets)\n",
    "    print(f\"Tax                : \",tax)\n",
    "    print(f\"Final cost         : \",n_tickets*c_tickets-tax)\n",
    "elif c_tickets==250:\n",
    "    print(f\"Ticket category    :  Platinum\")\n",
    "    print(f\"Total cost         : \",n_tickets*c_tickets)\n",
    "    print(f\"Tax                : \",tax)\n",
    "    print(f\"Final cost         : \",n_tickets*c_tickets-tax)   \n",
    "else:\n",
    "    print(\"You have entered wrong amount !\")    \n",
    "\n"
   ]
  },
  {
   "cell_type": "markdown",
   "id": "b3f90553",
   "metadata": {},
   "source": [
    "### 10.Develop a Python program that estimates travel fare based on distance and transport mode. \n",
    " ### Input:\n",
    "  #### Distance (in km)\n",
    "  #### Mode (Bus: ₹5/km, Train: ₹2/km, Cab: ₹10/km)\n",
    "### Calculate and display the total fare and estimated travel time (assuming constant speeds for each mode).\n"
   ]
  },
  {
   "cell_type": "code",
   "execution_count": 1,
   "id": "79873205",
   "metadata": {},
   "outputs": [
    {
     "name": "stdout",
     "output_type": "stream",
     "text": [
      "--- Travel Fare Details ---\n",
      "\n",
      "Distance to be travelled :  120.0 km\n",
      "Mode of Transport        : TRAIN \n",
      "Cost                     : ₹ 240.0\n",
      "Time travelled in train  :  72.0 minutes\n"
     ]
    }
   ],
   "source": [
    "distance=float(input(\"Enter the distance to be travelled : \"))\n",
    "mode=input(\"Enter the mode of transport : \")\n",
    "print(f\"--- Travel Fare Details ---\\n\")\n",
    "print(f\"Distance to be travelled : \",distance,\"km\")\n",
    "if mode==\"bus\":\n",
    "    print(f\"Mode of Transport        : BUS \")\n",
    "    b_speed=40\n",
    "    print(f\"Cost                     : ₹\",5*distance)\n",
    "    b_time=(distance/b_speed)*60\n",
    "    print(f\"Time travelled in bus    : \",b_time,\"minutes\")\n",
    "elif mode==\"train\":\n",
    "    print(f\"Mode of Transport        : TRAIN \")\n",
    "    t_speed=100\n",
    "    print(f\"Cost                     : ₹\",2*distance) \n",
    "    t_time=(distance/t_speed)*60\n",
    "    print(f\"Time travelled in train  : \",t_time,\"minutes\")\n",
    "elif mode==\"cab\":\n",
    "    print(f\"Mode of Transport        : CAB \")\n",
    "    c_speed=50\n",
    "    print(f\"Cost                     : ₹\",10*distance)\n",
    "    c_time=(distance/c_speed)*60\n",
    "    print(f\"Time travelled in cab    : \",c_time,\"minutes\")\n",
    "else :\n",
    "    print(f\"Mode of transport is not available\")           \n",
    "   "
   ]
  }
 ],
 "metadata": {
  "kernelspec": {
   "display_name": "Python 3",
   "language": "python",
   "name": "python3"
  },
  "language_info": {
   "codemirror_mode": {
    "name": "ipython",
    "version": 3
   },
   "file_extension": ".py",
   "mimetype": "text/x-python",
   "name": "python",
   "nbconvert_exporter": "python",
   "pygments_lexer": "ipython3",
   "version": "3.12.10"
  }
 },
 "nbformat": 4,
 "nbformat_minor": 5
}
