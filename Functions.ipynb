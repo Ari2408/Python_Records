{
 "cells": [
  {
   "cell_type": "markdown",
   "id": "8a282cbd",
   "metadata": {},
   "source": [
    "### 1.Movie Ticket Pricing You're writing a function to calculate movie ticket prices based on age.\n",
    "#### Kids under 12: $5 \n",
    "#### Seniors (60+): $6 \n",
    "#### Everyone else: $10\n",
    "### Question: \n",
    "#### Write a function calculate_ticket_price(age) that returns the correct ticket price.\n",
    "### Sample Input: \n",
    "#### calculate_ticket_price(8)    #Output: 5\n",
    "#### calculate_ticket_price(30)   #Output: 10     \n",
    "#### calculate_ticket_price(65)   #Output: 6\n"
   ]
  },
  {
   "cell_type": "code",
   "execution_count": 2,
   "id": "c14e296a",
   "metadata": {},
   "outputs": [
    {
     "name": "stdout",
     "output_type": "stream",
     "text": [
      "Price of the movie ticket is $ 5\n"
     ]
    }
   ],
   "source": [
    "def calculate_ticket_price(age):\n",
    "  if age<=12:\n",
    "    return 5\n",
    "  elif age>=60:\n",
    "    return 6\n",
    "  else:\n",
    "    return 10\n",
    "age=int(input(\"Enter person's age :\"))\n",
    "print(\"Price of the movie ticket is $\",calculate_ticket_price(age))"
   ]
  },
  {
   "cell_type": "markdown",
   "id": "95f0eeaf",
   "metadata": {},
   "source": [
    "### 2.You’re building a weather app and need a function to convert temperatures from Celsius to Fahrenheit\n",
    "### Question:\n",
    "#### Write a function celsius_to_fahrenheit(celsius) that returns the Fahrenheit equivalent.\n",
    "### Sample Input:\n",
    "#### celsius_to_fahrenheit(0)       # Output: 32.0  \n",
    "#### celsius_to_fahrenheit(37)      # Output: 98.6\n"
   ]
  },
  {
   "cell_type": "code",
   "execution_count": 7,
   "id": "5ab5915b",
   "metadata": {},
   "outputs": [
    {
     "name": "stdout",
     "output_type": "stream",
     "text": [
      "In fahrenheit : 32.0\n"
     ]
    }
   ],
   "source": [
    "def celsius_to_fahrenheit(celsius):\n",
    "  return celsius*(9/5)+32\n",
    "celsius=float(input(\"Enter the celsius :\"))\n",
    "print(\"In fahrenheit : %.1f\"%celsius_to_fahrenheit(celsius))"
   ]
  },
  {
   "cell_type": "markdown",
   "id": "8220a6cf",
   "metadata": {},
   "source": [
    "### 3.You're creating a grading system. Given a score (0–100), return a letter grade:\t\n",
    "#### A: 90+\t\n",
    "#### B: 80–89\t\n",
    "#### C: 70–79\n",
    "#### D: 60–69\n",
    "#### F: below 60\n",
    "### Question:\n",
    "#### Write a function get_grade(score) that returns the letter grade.\n",
    "### Sample Input:\n",
    "#### get_grade(85)        # Output: \"B\"  \n",
    "#### get_grade(59)        # Output: \"F\n"
   ]
  },
  {
   "cell_type": "code",
   "execution_count": null,
   "id": "79ecf64f",
   "metadata": {},
   "outputs": [
    {
     "name": "stdout",
     "output_type": "stream",
     "text": [
      "Grade of the student is None\n"
     ]
    }
   ],
   "source": [
    "def get_grade(score):\n",
    "  if score >= 90 and score<=100:\n",
    "    return \"A\"\n",
    "  elif score >= 80 and score<=89:\n",
    "    return \"B\"\n",
    "  elif score >= 70 and score<=79:\n",
    "    return \"C\"\n",
    "  elif score >= 60 and score<=69:\n",
    "    return \"D\"\n",
    "  elif score >= 0 and score <=60:\n",
    "    return \"F\"\n",
    "score=float(input(\"Enter the score of the student :\"))\n",
    "print(\"Grade of the student is\",get_grade(score))"
   ]
  },
  {
   "cell_type": "markdown",
   "id": "8f7e97a0",
   "metadata": {},
   "source": [
    "### 4.In a text editing app, users want a function that takes a sentence and reverses each word, keeping the word order the same.\n",
    "### Question:\n",
    "#### Write a function reverse_words(sentence) that reverses the characters of each word.\n",
    "### Sample Input:\n",
    "#### reverse_words(\"hello world\")    # Output: \"olleh dlrow\"  \n",
    "#### reverse_words(\"python is fun\")  # Output: \"nohtyp si nuf\"\n",
    "\n"
   ]
  },
  {
   "cell_type": "code",
   "execution_count": null,
   "id": "42e1c3c1",
   "metadata": {},
   "outputs": [
    {
     "name": "stdout",
     "output_type": "stream",
     "text": [
      "Reversed sentence is :  olleh dlrow\n"
     ]
    }
   ],
   "source": [
    "def reverse_words(sentence):\n",
    "  rev=[]\n",
    "  for i in sentence.split():\n",
    "    rev.append(i[::-1])\n",
    "  return \" \".join(rev)\n",
    "sentence=input(\"Enter the sentence :\")\n",
    "print(\"Reversed sentence is : \",reverse_words(sentence))"
   ]
  },
  {
   "cell_type": "markdown",
   "id": "8848ecde",
   "metadata": {},
   "source": [
    "### 5.Shipping Cost Calculator :A  company charges shipping based on weight:\n",
    "#### Up to 2kg: $5\n",
    "#### 2–5kg: $10\n",
    "#### 5kg and above: $15\n",
    "### Question:\n",
    "#### Write a function calculate_shipping(weight) that returns the shipping cost.\n",
    "### Sample Input:\n",
    "#### calculate_shipping(1.5)     # Output: 5  \n",
    "#### calculate_shipping(3.2)     # Output: 10  \n",
    "#### calculate_shipping(7.0)     # Output: 15\n"
   ]
  },
  {
   "cell_type": "code",
   "execution_count": null,
   "id": "b731b337",
   "metadata": {},
   "outputs": [
    {
     "name": "stdout",
     "output_type": "stream",
     "text": [
      "Shipping charge is $ None\n"
     ]
    }
   ],
   "source": [
    "def calculate_shipping(weight):\n",
    "  if weight <= 2 and weight>0 :\n",
    "    return 5\n",
    "  elif weight >=2 and weight<=5:\n",
    "    return 10\n",
    "  elif weight >=5:\n",
    "    return 15\n",
    "weight=float(input(\"Enter the weight(in kilogram):\"))\n",
    "print(\"Shipping charge is $\",calculate_shipping(weight))\n"
   ]
  },
  {
   "cell_type": "markdown",
   "id": "fc620192",
   "metadata": {},
   "source": [
    "### 6.Password Strength Checker\n",
    "### Scenario: You're building a signup form. The password must be at least 8 characters long and contain at least one uppercase letter, one lowercase letter, and one digit.\n",
    "### Question:\n",
    "#### Write a function is_strong_password(password) that returns True if the password is strong, otherwise False.\n",
    "### Sample Input:\n",
    "#### is_strong_password(\"Password123\")     # Output: True\n"
   ]
  },
  {
   "cell_type": "code",
   "execution_count": 5,
   "id": "1f330f99",
   "metadata": {},
   "outputs": [
    {
     "name": "stdout",
     "output_type": "stream",
     "text": [
      "None\n"
     ]
    }
   ],
   "source": [
    "def is_strong_password(password):\n",
    "  if(len(password)>8 or password.isupper() or password.islower() or password.isnumeric()):\n",
    "    return True\n",
    "password=input(\"Enter your passowrd :\")\n",
    "print(is_strong_password(password))"
   ]
  }
 ],
 "metadata": {
  "kernelspec": {
   "display_name": "Python 3",
   "language": "python",
   "name": "python3"
  },
  "language_info": {
   "codemirror_mode": {
    "name": "ipython",
    "version": 3
   },
   "file_extension": ".py",
   "mimetype": "text/x-python",
   "name": "python",
   "nbconvert_exporter": "python",
   "pygments_lexer": "ipython3",
   "version": "3.12.10"
  }
 },
 "nbformat": 4,
 "nbformat_minor": 5
}
